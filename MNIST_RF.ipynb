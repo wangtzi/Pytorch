{
  "nbformat": 4,
  "nbformat_minor": 0,
  "metadata": {
    "colab": {
      "provenance": [],
      "gpuType": "T4",
      "authorship_tag": "ABX9TyPNevsS96nRzo2XdDPbV0x1",
      "include_colab_link": true
    },
    "kernelspec": {
      "name": "python3",
      "display_name": "Python 3"
    },
    "language_info": {
      "name": "python"
    },
    "accelerator": "GPU"
  },
  "cells": [
    {
      "cell_type": "markdown",
      "metadata": {
        "id": "view-in-github",
        "colab_type": "text"
      },
      "source": [
        "<a href=\"https://colab.research.google.com/github/wangtzi/Pytorch/blob/main/MNIST_RF.ipynb\" target=\"_parent\"><img src=\"https://colab.research.google.com/assets/colab-badge.svg\" alt=\"Open In Colab\"/></a>"
      ]
    },
    {
      "cell_type": "code",
      "execution_count": 5,
      "metadata": {
        "colab": {
          "base_uri": "https://localhost:8080/"
        },
        "id": "KYV-cJnJzOaU",
        "outputId": "ee5ec3c4-fd7d-4e1f-9ecc-85ae629f3b82"
      },
      "outputs": [
        {
          "output_type": "stream",
          "name": "stdout",
          "text": [
            "Downloading http://yann.lecun.com/exdb/mnist/train-images-idx3-ubyte.gz\n",
            "Downloading http://yann.lecun.com/exdb/mnist/train-images-idx3-ubyte.gz to ./data/MNIST/raw/train-images-idx3-ubyte.gz\n"
          ]
        },
        {
          "output_type": "stream",
          "name": "stderr",
          "text": [
            "100%|██████████| 9912422/9912422 [00:00<00:00, 327323990.05it/s]"
          ]
        },
        {
          "output_type": "stream",
          "name": "stdout",
          "text": [
            "Extracting ./data/MNIST/raw/train-images-idx3-ubyte.gz to ./data/MNIST/raw\n"
          ]
        },
        {
          "output_type": "stream",
          "name": "stderr",
          "text": [
            "\n"
          ]
        },
        {
          "output_type": "stream",
          "name": "stdout",
          "text": [
            "\n",
            "Downloading http://yann.lecun.com/exdb/mnist/train-labels-idx1-ubyte.gz\n",
            "Downloading http://yann.lecun.com/exdb/mnist/train-labels-idx1-ubyte.gz to ./data/MNIST/raw/train-labels-idx1-ubyte.gz\n"
          ]
        },
        {
          "output_type": "stream",
          "name": "stderr",
          "text": [
            "100%|██████████| 28881/28881 [00:00<00:00, 90942713.08it/s]\n"
          ]
        },
        {
          "output_type": "stream",
          "name": "stdout",
          "text": [
            "Extracting ./data/MNIST/raw/train-labels-idx1-ubyte.gz to ./data/MNIST/raw\n",
            "\n",
            "Downloading http://yann.lecun.com/exdb/mnist/t10k-images-idx3-ubyte.gz\n",
            "Downloading http://yann.lecun.com/exdb/mnist/t10k-images-idx3-ubyte.gz to ./data/MNIST/raw/t10k-images-idx3-ubyte.gz\n"
          ]
        },
        {
          "output_type": "stream",
          "name": "stderr",
          "text": [
            "100%|██████████| 1648877/1648877 [00:00<00:00, 154262388.40it/s]"
          ]
        },
        {
          "output_type": "stream",
          "name": "stdout",
          "text": [
            "Extracting ./data/MNIST/raw/t10k-images-idx3-ubyte.gz to ./data/MNIST/raw\n",
            "\n",
            "Downloading http://yann.lecun.com/exdb/mnist/t10k-labels-idx1-ubyte.gz\n"
          ]
        },
        {
          "output_type": "stream",
          "name": "stderr",
          "text": [
            "\n"
          ]
        },
        {
          "output_type": "stream",
          "name": "stdout",
          "text": [
            "Downloading http://yann.lecun.com/exdb/mnist/t10k-labels-idx1-ubyte.gz to ./data/MNIST/raw/t10k-labels-idx1-ubyte.gz\n"
          ]
        },
        {
          "output_type": "stream",
          "name": "stderr",
          "text": [
            "100%|██████████| 4542/4542 [00:00<00:00, 19165521.90it/s]\n"
          ]
        },
        {
          "output_type": "stream",
          "name": "stdout",
          "text": [
            "Extracting ./data/MNIST/raw/t10k-labels-idx1-ubyte.gz to ./data/MNIST/raw\n",
            "\n",
            "n_iterations: 2\n",
            "n_required_iterations: 5\n",
            "n_possible_iterations: 2\n",
            "min_resources_: 60\n",
            "max_resources_: 500\n",
            "aggressive_elimination: False\n",
            "factor: 3\n",
            "----------\n",
            "iter: 0\n",
            "n_candidates: 81\n",
            "n_resources: 60\n",
            "Fitting 3 folds for each of 81 candidates, totalling 243 fits\n",
            "----------\n",
            "iter: 1\n",
            "n_candidates: 27\n",
            "n_resources: 180\n",
            "Fitting 3 folds for each of 27 candidates, totalling 81 fits\n",
            "Best Parameters: {'max_depth': None, 'max_features': 'sqrt', 'min_samples_split': 2, 'n_estimators': 100}\n",
            "Best Score: 0.6833\n",
            "Random Forest Accuracy: 0.9700\n"
          ]
        }
      ],
      "source": [
        "import os\n",
        "import torch\n",
        "from torch import nn\n",
        "from torch.utils.data import DataLoader\n",
        "from torchvision import transforms\n",
        "from torchvision.datasets import MNIST\n",
        "from torchvision import datasets\n",
        "from sklearn.ensemble import RandomForestClassifier\n",
        "from sklearn.experimental import enable_halving_search_cv\n",
        "from sklearn.model_selection import HalvingGridSearchCV\n",
        "\n",
        "\n",
        "# 加載MNIST數據集( ToTensor() )\n",
        "train_dataset = datasets.MNIST(root='./data', train=True, download=True, transform=transforms.ToTensor())\n",
        "test_dataset = datasets.MNIST(root='./data', train=False, download=True, transform=transforms.ToTensor())\n",
        "\n",
        "# 將圖像數據展平為一維向量，scikit-learn只能讀numpy()\n",
        "X_train = train_dataset.data.reshape(len(train_dataset), -1).numpy()\n",
        "y_train = train_dataset.targets.numpy()\n",
        "X_test = test_dataset.data.reshape(len(test_dataset), -1).numpy()\n",
        "y_test = test_dataset.targets.numpy()\n",
        "\n",
        "# 設定參數網格\n",
        "param_grid = {\n",
        "    'n_estimators': [100, 500, 1000],\n",
        "    'max_depth': [5, 10, None],\n",
        "    'max_features': ['sqrt', 'log2', None],\n",
        "    'min_samples_split': [2, 5, 10]\n",
        "}\n",
        "\n",
        "\n",
        "# 建立隨機森林分類器\n",
        "rf_clf = RandomForestClassifier()\n",
        "\n",
        "# 使用 HalvingGridSearchCV 尋找最佳參數\n",
        "\"\"\"cv=3: 使用 3 折交叉驗證來評估模型性能。\n",
        "factor=3: 每次迭代時將資源預算乘以 3。\n",
        "min_resources=\"exhaust\": 搜索將一直持續到耗盡所有資源或僅剩一個參數組合。\n",
        "max_resources=500: 最大資源預算為 500 棵決策樹。\n",
        "n_jobs=-1: 使用所有可用的 CPU 核心進行並行計算。\n",
        "verbose=2: 顯示詳細的搜索過程信息。\n",
        "\"\"\"\n",
        "halving_cv = HalvingGridSearchCV(rf_clf,\n",
        "                  param_grid,\n",
        "                  cv=3,\n",
        "                  factor=3,\n",
        "                  min_resources=\"exhaust\",\n",
        "                  max_resources=500,\n",
        "                  n_jobs=-1,\n",
        "                  verbose=2)\n",
        "halving_cv.fit(X_train, y_train)\n",
        "\n",
        "# 打印最佳參數和分數\n",
        "print(f\"Best Parameters: {halving_cv.best_params_}\")\n",
        "print(f\"Best Score: {halving_cv.best_score_:.4f}\")\n",
        "\n",
        "# 使用最佳參數訓練模型\n",
        "best_rf_clf = halving_cv.best_estimator_\n",
        "best_rf_clf.fit(X_train, y_train)\n",
        "\n",
        "\n",
        "# 訓練模型\n",
        "#rf_clf.fit(X_train, y_train)\n",
        "\n",
        "# 在測試集上進行預測\n",
        "#y_pred = rf_clf.predict(X_test)\n",
        "y_pred = best_rf_clf.predict(X_test)\n",
        "\n",
        "# 計算準確率\n",
        "accuracy = (y_pred == y_test).mean()\n",
        "print(f\"Random Forest Accuracy: {accuracy:.4f}\")\n",
        "\n",
        "# Save >>\n",
        "torch.save(best_rf_clf, 'model.pth')\n",
        "# Load >>\n",
        "#best_rf_clf = torch.load('model.pth')"
      ]
    },
    {
      "cell_type": "code",
      "source": [
        "import matplotlib.pyplot as plt\n",
        "\n",
        "test_idx = 1  # 要查看的測試數據索引\n",
        "img = test_dataset.data[test_idx].numpy()\n",
        "label = test_dataset.targets[test_idx].numpy()\n",
        "prediction = best_rf_clf.predict(X_test[test_idx].reshape(1, -1))[0]\n",
        "\n",
        "print(f\"True Label: {label}\")\n",
        "print(f\"Prediction: {prediction}\")\n",
        "\n",
        "plt.imshow(img, cmap='gray')\n",
        "plt.show()"
      ],
      "metadata": {
        "colab": {
          "base_uri": "https://localhost:8080/",
          "height": 465
        },
        "id": "_6jGaiSn0Lih",
        "outputId": "2045c503-d9ca-4d29-bac8-ff0a507dd96c"
      },
      "execution_count": 7,
      "outputs": [
        {
          "output_type": "stream",
          "name": "stdout",
          "text": [
            "True Label: 2\n",
            "Prediction: 2\n"
          ]
        },
        {
          "output_type": "display_data",
          "data": {
            "text/plain": [
              "<Figure size 640x480 with 1 Axes>"
            ],
            "image/png": "[encoded data removed]"
          },
          "metadata": {}
        }
      ]
    },
    {
      "cell_type": "code",
      "source": [
        "# Confusion Matrix\n",
        "from sklearn.metrics import accuracy_score, confusion_matrix , precision_score, recall_score, f1_score, roc_auc_score\n",
        "import seaborn as sns\n",
        "\n",
        "confused_matrix = confusion_matrix(y_test, y_pred)\n",
        "\n",
        "plt.figure(figsize=(8, 6))\n",
        "sns.heatmap(confused_matrix, annot=True, fmt='d', cmap='Blues')\n",
        "plt.xlabel('Predicted')\n",
        "plt.ylabel('True')\n",
        "plt.title('Confusion Matrix')\n",
        "plt.show()\n"
      ],
      "metadata": {
        "colab": {
          "base_uri": "https://localhost:8080/",
          "height": 564
        },
        "id": "JjFG9NlZO558",
        "outputId": "8d8f7572-322a-40b0-9615-96be7232bece"
      },
      "execution_count": 8,
      "outputs": [
        {
          "output_type": "display_data",
          "data": {
            "text/plain": [
              "<Figure size 800x600 with 2 Axes>"
            ],
            "image/png": "[encoded data removed]"
          },
          "metadata": {}
        }
      ]
    },
    {
      "cell_type": "code",
      "source": [
        "from sklearn.tree import export_graphviz\n",
        "import graphviz\n",
        "# 獲取其中一棵決策樹的estimator對象\n",
        "estimator = best_rf_clf.estimators_[0]\n",
        "\n",
        "# 使用export_graphviz函數導出決策樹\n",
        "dot_data = export_graphviz(estimator, out_file=None,\n",
        "                           feature_names=['pixel_' + str(i) for i in range(784)],\n",
        "                           class_names=['0', '1', '2', '3', '4', '5', '6', '7', '8', '9'],\n",
        "                           filled=True, rounded=True)\n",
        "\n",
        "# 使用graphviz渲染決策樹\n",
        "graph = graphviz.Source(dot_data)\n",
        "graph.render(\"decision_tree\")"
      ],
      "metadata": {
        "colab": {
          "base_uri": "https://localhost:8080/",
          "height": 35
        },
        "id": "YInpoadmlTVg",
        "outputId": "a2b10eb9-5132-485e-99ea-2110d21b69cb"
      },
      "execution_count": 9,
      "outputs": [
        {
          "output_type": "execute_result",
          "data": {
            "text/plain": [
              "'decision_tree.pdf'"
            ],
            "application/vnd.google.colaboratory.intrinsic+json": {
              "type": "string"
            }
          },
          "metadata": {},
          "execution_count": 9
        }
      ]
    }
  ]
}